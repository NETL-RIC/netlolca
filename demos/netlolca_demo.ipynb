{
 "cells": [
  {
   "cell_type": "markdown",
   "id": "6bd0cb8f-9b2e-408f-81f2-8d92e3509492",
   "metadata": {},
   "source": [
    "# Interacting with openLCA using Python\n",
    "### The NetlOlca class\n",
    "<subtitle>Created: Wednesday, January 24, 2024</subtitle>\n",
    "\n",
    "This notebook examines the NetlOlca Python class, developed for interacting with openLCA projects (either directly with the app or indirectly through exported JSON-LD zip files).\n",
    "This work is funded by NETL under the SA contract for Advanced Systems and Markets Analysis (SA 01.02.24.04-1-3).\n",
    "\n",
    "The code is written by Priyadarshini and Tyler W. Davis (2023&ndash;2024).\n",
    "The requirements for executing this code are:\n",
    "\n",
    "- Python 3.11 (or higher)\n",
    "- Jupyter Lab 4.0 (or higher)\n",
    "- olca-ipc 2.0 (or higher)\n",
    "- PyYaml 6.0 (or higher)\n",
    "- Pandas 2.0 (or higher)"
   ]
  },
  {
   "cell_type": "markdown",
   "id": "776d6837-f773-4d62-9f60-a6f8a827bc10",
   "metadata": {},
   "source": [
    "The `NetlOlca` Python class is defined in the NetlOlca.py module within the netlolca package. To import, type the following:"
   ]
  },
  {
   "cell_type": "code",
   "execution_count": null,
   "id": "9c6824ab-621a-474c-8c30-f29ccd891348",
   "metadata": {},
   "outputs": [],
   "source": [
    "try:\n",
    "    from netlolca.NetlOlca import NetlOlca\n",
    "except ModuleNotFoundError:\n",
    "    # Handle if this notebook is run from the \"demo\" directory.\n",
    "    import os\n",
    "    os.chdir(\"..\")\n",
    "    from netlolca.NetlOlca import NetlOlca"
   ]
  },
  {
   "cell_type": "markdown",
   "id": "b53c72af-08df-42df-8d82-33ee63a2d9c6",
   "metadata": {},
   "source": [
    "With the class definition imported, instantiate an instance of the class (no parameters are required)."
   ]
  },
  {
   "cell_type": "code",
   "execution_count": null,
   "id": "858b83b4-00bf-45af-8213-03e3c1f9400d",
   "metadata": {},
   "outputs": [],
   "source": [
    "netl = NetlOlca()"
   ]
  },
  {
   "cell_type": "markdown",
   "id": "a272c4d2-4446-4459-ac23-01c07f13d4fa",
   "metadata": {},
   "source": [
    "Now you are ready to go!\n",
    "\n",
    "There are two basic modes of interacting with openLCA databases:\n",
    "\n",
    "1. Directly (via the inter-process communication service protocol)\n",
    "2. Indirectly (via ZIP file input-output processes)\n",
    "\n",
    "In this example, we define the relative path to an existing ZIP file, which represents the JSON-LD export of a product system from openLCA."
   ]
  },
  {
   "cell_type": "code",
   "execution_count": null,
   "id": "983c560d-7b2a-4e38-a861-059967c5adf8",
   "metadata": {},
   "outputs": [],
   "source": [
    "data_files = [\n",
    "    \"data/alkaline_electrolysis.zip\",\n",
    "    \"data/aluminum_single_system.zip\"\n",
    "]\n",
    "my_file = data_files[1]"
   ]
  },
  {
   "cell_type": "markdown",
   "id": "f94ee04e-3378-48cc-95c7-4ed006e1b7a4",
   "metadata": {},
   "source": [
    "You may use Python standard library, `os`, to check to see if the file exists (or simply look it up in the File Browser in Jupyter Lab)."
   ]
  },
  {
   "cell_type": "code",
   "execution_count": null,
   "id": "7f159874-b3fd-412b-897f-a1fbb211c9d3",
   "metadata": {},
   "outputs": [],
   "source": [
    "import os\n",
    "os.path.isfile(my_file)"
   ]
  },
  {
   "cell_type": "markdown",
   "id": "3bd6b0b5-93d0-4e3a-aa01-303a8c39d307",
   "metadata": {},
   "source": [
    "It is a two-step process connecting to an openLCA database (either directly or indirectly).\n",
    "The first step is to either `open` a JSON-LD ZIP file or `connect` to the openLCA app.\n",
    "The second step is to `read` the database.\n",
    "\n",
    "In this example, since we are connecting to a JSON-LD file, we use the `open` method and send it the parameter definition that stores the JSON-LD file path."
   ]
  },
  {
   "cell_type": "code",
   "execution_count": null,
   "id": "c58a6eb5-9d7f-449f-9b05-9c21b410af07",
   "metadata": {},
   "outputs": [],
   "source": [
    "netl.open(my_file)\n",
    "netl.read()"
   ]
  },
  {
   "cell_type": "markdown",
   "id": "80a81d81-7e0b-4ff9-8998-9da0fa00727c",
   "metadata": {},
   "source": [
    "In Python, the openLCA is represented in two ways:\n",
    "\n",
    "1. The data schema (how the data are modeled, including formats, data types, and metadata)\n",
    "2. The application (used to run processes and analyses and generate graphs)\n",
    "\n",
    "For (1), GreenDelta provides olca-schema, a Python package with all the class defintions for \"root entities.\"\n",
    "\n",
    "**Root entities** are the main data components and are the folder names you see if you unzip a JSON-LD file (see the table below for the list of root entities).\n",
    "\n",
    "| Root Entity Name | Description |\n",
    "| ---------------- | ----------- |\n",
    "| Actor | A person or organization |\n",
    "| Currency | Costing currency |\n",
    "| DQ System | Data quality system, a matrix of quality indicators |\n",
    "| EPD | Environmental Product System |\n",
    "| Flow | Everything that can be an input/output of a process |\n",
    "| Flow property | Quantity used to express amounts of flow |\n",
    "| Impact category | Life cycle impact assessment category |\n",
    "| Impact method | An impact assessment method |\n",
    "| Location | A location (e.g., country, state, or city) |\n",
    "| Parameter | Input or dependent global/process/impact parameter |\n",
    "| Process | Systematic organization or series of actions |\n",
    "| Product system | A product's supply chain (functional unit) |\n",
    "| Project | An openLCA project |\n",
    "| Result | A calculation result of a product system |\n",
    "| Social indicator | An indicator for Social LCA |\n",
    "| Source | A literature reference |\n",
    "| Unit group | Group of units that can be inter-converted |\n",
    "\n",
    "It is through these root entities that all the openLCA data may be accessed.\n",
    "\n",
    "The basic interaction with an openLCA database is to query data.\n",
    "The `NetlOlca` class provides both specialized and generic querying methods.\n",
    "The following table provides a short summary of these methods.\n",
    "\n",
    "| Method Name | Description |\n",
    "| :---------- | :---------- |\n",
    "| `get_actors` | Return a metadata dictionary of actors |\n",
    "| `get_descriptors` | Return a list of Ref objects for a given entity type |\n",
    "| `get_exchange_flows` | Return a list of all flow universally unique identifiers |\n",
    "| `get_flows` | Return a dictionary of input and/or output flow data for a give process |\n",
    "| `get_input_flows` | Return a dictionary of input exchange flow data for a given process |\n",
    "| `get_output_flows` | Return a dictionary of out exchange flow data for a given process |\n",
    "| `flow_is_tracked` | Return true for a product flow |\n",
    "| `get_num_inputs` | Return a count of input flows for a given process |\n",
    "| `get_number_product_systems` | Return the count of product systems in a database | \n",
    "| `get_process_doc` | Return a process's documentation text |\n",
    "| `get_process_id` | Return the universally unique identifier for a given product system's reference process |\n",
    "| `get_reviewer` | Return reviewer's name and ID for a given process |\n",
    "| `get_reference_category` | Return the category name for a product system's reference process |\n",
    "| `get_reference_description` | Return the description text for a product system's reference process |\n",
    "| `get_reference_doc` | Return the documentation text for a product system's reference process |\n",
    "| `find_reference_exchange` | Return an indexed flow exchange for a given process |\n",
    "| `get_electricity_gen_processes` | Return a list of electricity generation processes and their IDs |\n",
    "| `match_process_names` | Return a list of process names and IDs for a given pattern |\n",
    "| `get_reference_flow` | Return the quantitative reference flow for a given product system |\n",
    "| `get_reference_name` | Return the name of a product system's reference process |\n",
    "| `get_reference_process` | Return a list of reference processes for a given product system |\n",
    "| `get_reference_process_id` | Return a list of UUIDs of reference processes for a given product system |\n",
    "| `get_spec_class` | Return a root entity class of a given name |\n",
    "| `get_spec_ids` | Return a list of UUIDs associated with a given root entity |\n",
    "| `print_descriptors` | Print a data property for a given root entity |\n",
    "| `print_unit_groups` | Print a list of unit group names. |\n",
    "| `query` | Return the object for a given root entity and UUID |\n",
    "\n"
   ]
  },
  {
   "cell_type": "markdown",
   "id": "9f9e444d-14e6-4509-b73a-f2f5f48a5559",
   "metadata": {},
   "source": [
    "A good first step is to see how many product systems are in your database."
   ]
  },
  {
   "cell_type": "code",
   "execution_count": null,
   "id": "ebf10d8c-cd4a-46d0-8b22-ef2fd2bfda5d",
   "metadata": {},
   "outputs": [],
   "source": [
    "netl.get_number_product_systems()"
   ]
  },
  {
   "cell_type": "markdown",
   "id": "d4108fcd-06f3-45d8-b2cf-02fba6293ce4",
   "metadata": {},
   "source": [
    "Okay, now we know there's a product system. What's it's name?"
   ]
  },
  {
   "cell_type": "code",
   "execution_count": null,
   "id": "eb7b951b-3e34-4e58-80d3-c7c9d2e3b0a7",
   "metadata": {},
   "outputs": [],
   "source": [
    "netl.get_reference_name()"
   ]
  },
  {
   "cell_type": "markdown",
   "id": "b76f6843-80ce-46f6-b42a-f428b3de3d63",
   "metadata": {},
   "source": [
    "And other metadata associated with it include:"
   ]
  },
  {
   "cell_type": "code",
   "execution_count": null,
   "id": "50528324-366e-4e6d-a6cb-ecac5c1cdb00",
   "metadata": {},
   "outputs": [],
   "source": [
    "netl.get_reference_category()"
   ]
  },
  {
   "cell_type": "code",
   "execution_count": null,
   "id": "6aa5e398-5a42-4098-8ad0-60c2fabdd856",
   "metadata": {},
   "outputs": [],
   "source": [
    "netl.get_reference_doc()"
   ]
  },
  {
   "cell_type": "markdown",
   "id": "fb2bec20-1d33-46fc-acda-1b90ed7eaa22",
   "metadata": {},
   "source": [
    "You may want to UUID of this product system."
   ]
  },
  {
   "cell_type": "code",
   "execution_count": null,
   "id": "042da6d5-7def-4321-a9e5-1c4b2b3fef0a",
   "metadata": {},
   "outputs": [],
   "source": [
    "netl.get_descriptors(                       # returns Ref objects\n",
    "    netl.get_spec_class(\"Product system\")   # for product system entities\n",
    ")[0].id                                     # the UUID of the first (and only) one"
   ]
  },
  {
   "cell_type": "markdown",
   "id": "94aadef8-715d-4ebb-9b2a-cc1295fbb9d1",
   "metadata": {},
   "source": [
    "And product systems have a functional unit. What is it for this one?"
   ]
  },
  {
   "cell_type": "code",
   "execution_count": null,
   "id": "5170fc28-ffa0-4e86-9f1e-5e7a6f61ba78",
   "metadata": {},
   "outputs": [],
   "source": [
    "netl.get_reference_flow() # add UUID"
   ]
  },
  {
   "cell_type": "markdown",
   "id": "2cbf73c6-b254-4a89-a40d-733badbfd9b1",
   "metadata": {},
   "source": [
    "Now, you may want to look into the properties of the reference process. First, what is the reference process's identifier?"
   ]
  },
  {
   "cell_type": "code",
   "execution_count": null,
   "id": "55fcb879-693e-4170-8e8a-7dda52ab45b4",
   "metadata": {},
   "outputs": [],
   "source": [
    "netl.get_reference_process_id()"
   ]
  },
  {
   "cell_type": "markdown",
   "id": "a420e484-27b3-4b80-b68d-12f261c380ee",
   "metadata": {},
   "source": [
    "You may want to know how many input flows there are for this process."
   ]
  },
  {
   "cell_type": "code",
   "execution_count": null,
   "id": "7bbb2d80-1e97-4612-8cd3-0e701786633b",
   "metadata": {},
   "outputs": [],
   "source": [
    "process_id = netl.get_reference_process_id()[0]\n",
    "netl.get_num_inputs(process_id)"
   ]
  },
  {
   "cell_type": "markdown",
   "id": "c04faf85-80d0-4960-ae93-715132f809c8",
   "metadata": {},
   "source": [
    "Let's look closer at the input flows."
   ]
  },
  {
   "cell_type": "code",
   "execution_count": null,
   "id": "04132689-7e86-435e-b99e-1c52f5cf2640",
   "metadata": {
    "scrolled": true
   },
   "outputs": [],
   "source": [
    "netl.get_input_flows(process_id)"
   ]
  },
  {
   "cell_type": "markdown",
   "id": "efe64c8c-d8d9-4d8e-ac35-36ef5ef72b48",
   "metadata": {},
   "source": [
    "Not as nice. Try visualizing as a data frame!"
   ]
  },
  {
   "cell_type": "code",
   "execution_count": null,
   "id": "5db9a214-b7ef-4ad7-993f-2fa54232af70",
   "metadata": {},
   "outputs": [],
   "source": [
    "import pandas as pd\n",
    "pd.DataFrame(netl.get_input_flows(process_id))"
   ]
  },
  {
   "cell_type": "markdown",
   "id": "69897a2e-c879-4cbc-97a0-c857d98430b6",
   "metadata": {},
   "source": [
    "And try the same for output flows."
   ]
  },
  {
   "cell_type": "code",
   "execution_count": null,
   "id": "0f0ad9b5-af9a-41b6-a84d-4fef3c86e15b",
   "metadata": {},
   "outputs": [],
   "source": [
    "pd.DataFrame(netl.get_output_flows(process_id))"
   ]
  },
  {
   "cell_type": "markdown",
   "id": "baab3f83-69af-42b7-abe4-9e7d2b235087",
   "metadata": {},
   "source": [
    "You can use the `match_process_names` method to search for process and the `query` method to get all the process's data."
   ]
  },
  {
   "cell_type": "code",
   "execution_count": null,
   "id": "abf2946e-e458-4f52-9dd8-abea6f45c931",
   "metadata": {},
   "outputs": [],
   "source": [
    "import re\n",
    "q = re.compile(\"Quicklime.*\")\n",
    "netl.match_process_names(q)"
   ]
  },
  {
   "cell_type": "code",
   "execution_count": null,
   "id": "2bd7c5c3-a3a5-49eb-80e0-88180c2331d2",
   "metadata": {},
   "outputs": [],
   "source": [
    "netl.get_process_doc() # add UUID"
   ]
  },
  {
   "cell_type": "markdown",
   "id": "075eec9c-6b95-429e-89b7-a654958a0092",
   "metadata": {},
   "source": [
    "When you're done, you can close the file."
   ]
  },
  {
   "cell_type": "code",
   "execution_count": null,
   "id": "7dd7a4c4-d38c-47cc-907d-5bbd80f930ad",
   "metadata": {},
   "outputs": [],
   "source": [
    "netl.close()"
   ]
  },
  {
   "cell_type": "markdown",
   "id": "3fa09db2-44c9-41b8-a191-d6c8e025207e",
   "metadata": {},
   "source": [
    "That's it!"
   ]
  }
 ],
 "metadata": {
  "kernelspec": {
   "display_name": "Python 3 (ipykernel)",
   "language": "python",
   "name": "python3"
  },
  "language_info": {
   "codemirror_mode": {
    "name": "ipython",
    "version": 3
   },
   "file_extension": ".py",
   "mimetype": "text/x-python",
   "name": "python",
   "nbconvert_exporter": "python",
   "pygments_lexer": "ipython3",
   "version": "3.11.7"
  }
 },
 "nbformat": 4,
 "nbformat_minor": 5
}
