{
 "cells": [
  {
   "cell_type": "markdown",
   "id": "42d6734e-72d0-4521-8354-546c51d869f9",
   "metadata": {},
   "source": [
    "# Interacting with openLCA using Python\n",
    "### The olca-schema module\n",
    "<subtitle>Created: Monday, February 5, 2024</subtitle>\n",
    "\n",
    "This notebook examines the olca-schema Python package, developed by GreenDelta for interacting with openLCA.\n",
    "\n",
    "This notebook was written by Priyadarshini and Tyler W. Davis (2023&ndash;2024).\n",
    "The requirements for executing this code are:\n",
    "\n",
    "- Python 3.11 (or higher)\n",
    "- Jupyter Lab 4.0 (or higher)\n",
    "- olca-ipc 2.0 (or higher)\n",
    "- PyYaml 6.0 (or higher)\n",
    "- Pandas 2.0 (or higher)"
   ]
  },
  {
   "cell_type": "markdown",
   "id": "7b10be4c-4163-436c-af6c-00871e7efabe",
   "metadata": {},
   "source": [
    "The `olca-schema` (or `olca_schema` as referenced by the Python interpreter) package is a dependency of `olca-ipc`, the definitions and methods for working with the openLCA app through the IPC service."
   ]
  },
  {
   "cell_type": "code",
   "execution_count": null,
   "id": "378936a8-215d-440d-82f5-ff6b35b68902",
   "metadata": {
    "hidden": true
   },
   "outputs": [],
   "source": [
    "import olca_schema as o"
   ]
  },
  {
   "cell_type": "markdown",
   "id": "9a22c212-563a-440f-94fc-128c126c5fc3",
   "metadata": {},
   "source": [
    "A package is an object when imported with data type, 'module'; you should see it in your local variables list (remember that we gave the package an alias, 'o')."
   ]
  },
  {
   "cell_type": "code",
   "execution_count": null,
   "id": "b15a1150-80ea-4d6d-b501-40a3221e8e42",
   "metadata": {},
   "outputs": [],
   "source": [
    "type(o)"
   ]
  },
  {
   "cell_type": "code",
   "execution_count": null,
   "id": "6a0c7158-7827-4e15-a66a-20408cfb489d",
   "metadata": {},
   "outputs": [],
   "source": [
    "dir()"
   ]
  },
  {
   "cell_type": "markdown",
   "id": "6a8a7578-f628-4017-8009-3e01278838f1",
   "metadata": {},
   "source": [
    "The main interaction with openLCA is through the **root entities**.\n",
    "These are class definitions in the `olca-schema` package.\n",
    "Let's look to see what's available."
   ]
  },
  {
   "cell_type": "code",
   "execution_count": null,
   "id": "59d9ebff-22cc-43ca-be78-9b5188473794",
   "metadata": {
    "scrolled": true
   },
   "outputs": [],
   "source": [
    "dir(o)"
   ]
  },
  {
   "cell_type": "markdown",
   "id": "8a35d7e0-1879-4206-9cc2-662e748f6b5f",
   "metadata": {},
   "source": [
    "We see 'Actor' as one of the root entities.\n",
    "Let's see what its documentation says about it.\n",
    "A quick shorthand for accessing the documentation for a class, attribute, or method is to add a question mark (?) after it"
   ]
  },
  {
   "cell_type": "code",
   "execution_count": null,
   "id": "a00bb4b6-1bb3-472b-a6c1-e4ea46d30aba",
   "metadata": {
    "scrolled": true
   },
   "outputs": [],
   "source": [
    "o.Actor?"
   ]
  },
  {
   "cell_type": "markdown",
   "id": "4567968c-7ef7-40fd-8cad-f74915baf2ac",
   "metadata": {},
   "source": [
    "> What happens when you add a second question mark after the class name above?"
   ]
  },
  {
   "cell_type": "markdown",
   "id": "57459e1a-a25c-4ee4-8654-4810349ba645",
   "metadata": {},
   "source": [
    "It looks like an Actor can have several optional **attributes**.\n",
    "Let try to instantiate an Actor class object with several variations of parameters."
   ]
  },
  {
   "cell_type": "code",
   "execution_count": null,
   "id": "1ca251bc-433a-49ea-bb09-9da56bcadf8b",
   "metadata": {},
   "outputs": [],
   "source": [
    "o.Actor() # no parameters"
   ]
  },
  {
   "cell_type": "code",
   "execution_count": null,
   "id": "a9f276a0-cc9c-41b6-b09b-9db855fc0566",
   "metadata": {},
   "outputs": [],
   "source": [
    "o.Actor(name='James Bond')"
   ]
  },
  {
   "cell_type": "code",
   "execution_count": null,
   "id": "bd3a619d-0965-4be0-a59a-9832b3a77a5a",
   "metadata": {},
   "outputs": [],
   "source": [
    "o.Actor(name='James Bond', city='London', country='UK')"
   ]
  },
  {
   "cell_type": "markdown",
   "id": "d6b9edcf-ed77-43b6-af8f-4c216f1d6344",
   "metadata": {},
   "source": [
    "> What happens with each initialization?\n",
    "> What changes?\n",
    "> What stays the same?"
   ]
  },
  {
   "cell_type": "markdown",
   "id": "ac84d44f-d420-421e-9f7b-df3612bca2bf",
   "metadata": {},
   "source": [
    "Let's try saving our Actor to a variable. \n",
    "Try using your information below."
   ]
  },
  {
   "cell_type": "code",
   "execution_count": null,
   "id": "cd9f97f7-3112-45f0-bd12-b1fb3973b481",
   "metadata": {},
   "outputs": [],
   "source": [
    "a = o.Actor(\n",
    "    name='', \n",
    "    city='', \n",
    "    country=''\n",
    ")"
   ]
  },
  {
   "cell_type": "markdown",
   "id": "29fc3c17-e674-4177-94b4-ab0e712ed487",
   "metadata": {},
   "source": [
    "Let's see what we made."
   ]
  },
  {
   "cell_type": "code",
   "execution_count": null,
   "id": "e561daff-f08a-49ea-9911-d2399cab70ec",
   "metadata": {},
   "outputs": [],
   "source": [
    "a"
   ]
  },
  {
   "cell_type": "markdown",
   "id": "c02aad10-9421-4f09-ab48-c0b7974c78f6",
   "metadata": {},
   "source": [
    "> What attributes and methods are associated with the Actor class?"
   ]
  },
  {
   "cell_type": "code",
   "execution_count": null,
   "id": "719d4f2e-5b51-4f38-b69a-f9b9737c0406",
   "metadata": {},
   "outputs": [],
   "source": [
    "dir(a)"
   ]
  },
  {
   "cell_type": "markdown",
   "id": "7d55cd4e-033e-4777-9ea0-999a7aad2d42",
   "metadata": {},
   "source": [
    "We see the same attributes from the initialization and a few \"to\" methods (e.g., \"to_dict,\" \"to_json,\" and \"to_ref\").\n",
    "\n",
    "Let's start with attributes.\n",
    "For example, let's try to add our email address."
   ]
  },
  {
   "cell_type": "code",
   "execution_count": null,
   "id": "4afe848a-f326-4b8c-b4e1-27ae103c3b1f",
   "metadata": {},
   "outputs": [],
   "source": [
    "a.email"
   ]
  },
  {
   "cell_type": "markdown",
   "id": "eaaba4f6-bc93-488c-9d89-d8ac4095ac09",
   "metadata": {},
   "source": [
    "Nothing!\n",
    "\n",
    "We know the expected data type is string (from the documentation); let's set it."
   ]
  },
  {
   "cell_type": "code",
   "execution_count": null,
   "id": "731fa90f-0e5b-4ea5-9d1a-9083723d8af2",
   "metadata": {},
   "outputs": [],
   "source": [
    "a.email = ''  # add your email"
   ]
  },
  {
   "cell_type": "code",
   "execution_count": null,
   "id": "b81467cf-2874-4994-8302-490441ee43cd",
   "metadata": {},
   "outputs": [],
   "source": [
    "a"
   ]
  },
  {
   "cell_type": "markdown",
   "id": "d08b5cbf-fe90-4424-9a5b-ba70ec699732",
   "metadata": {},
   "source": [
    "That seems to have done the trick.\n",
    "\n",
    "It's still not a pretty view.\n",
    "Let's take a closer look at those methods starting with \"to_dict\"."
   ]
  },
  {
   "cell_type": "code",
   "execution_count": null,
   "id": "171ebd1d-16d6-4e3f-882c-cf0cfd24297d",
   "metadata": {},
   "outputs": [],
   "source": [
    "a.to_dict?"
   ]
  },
  {
   "cell_type": "markdown",
   "id": "a6ced521-2364-4471-a8bd-741bef0fb02f",
   "metadata": {},
   "source": [
    "Unfortunately, we live in a world with less-than-perfect documentation.\n",
    "But, fortunately, it is open-source; you can add the second question mark to see the code.\n",
    "\n",
    "It looks like it turns the Actor class into a dictionary object."
   ]
  },
  {
   "cell_type": "code",
   "execution_count": null,
   "id": "4c6fc7a9-6456-4df9-81b8-162b42f5fa2b",
   "metadata": {},
   "outputs": [],
   "source": [
    "a.to_dict()"
   ]
  },
  {
   "cell_type": "markdown",
   "id": "385826cd-246c-4b53-a0f2-21ef3e9540d4",
   "metadata": {},
   "source": [
    "Yep. \n",
    "\n",
    "Good guess what the other two do."
   ]
  },
  {
   "cell_type": "code",
   "execution_count": null,
   "id": "b71b9fd2-cc9a-4d73-b8db-306bee926747",
   "metadata": {},
   "outputs": [],
   "source": [
    "a.to_json()"
   ]
  },
  {
   "cell_type": "markdown",
   "id": "2f33df38-5837-4c8a-9648-6c542707916a",
   "metadata": {},
   "source": [
    "Note that JSON is a string object.\n",
    "\n",
    "Try printing it so see how it looks.\n",
    "Notice how similar it is to a Python dictionary!"
   ]
  },
  {
   "cell_type": "code",
   "execution_count": null,
   "id": "1b5a3f99-0fb2-4922-9196-62e0e22f2622",
   "metadata": {},
   "outputs": [],
   "source": [
    "a.to_ref()"
   ]
  },
  {
   "cell_type": "markdown",
   "id": "04677b17-5f9e-49a1-8c14-a8ec34a854d2",
   "metadata": {},
   "source": [
    "Reference classes are a non-root entity.\n",
    "\n",
    "These were created because LCA references many other entities.\n",
    "Think about a process with many input and output flows---each with its own flow definition and (if it's a product flow) its own reference process and each of those with their own inputs and outputs.\n",
    "\n",
    "How cumbersome to manage all that information in just one process!\n",
    "\n",
    "The solution?\n",
    "\n",
    "Create small versions of each class with just enough info to \"find the original\" in the database.\n",
    "Enter the `Ref` class, which can be built from any root entity.\n",
    "This is the premise behind the 'LD' in JSON-LD.\n",
    "\n",
    "> What is the minimum information needed to find a root entity?"
   ]
  },
  {
   "cell_type": "markdown",
   "id": "55a24136-3ae5-4f61-8a5c-d41fd4e3af8a",
   "metadata": {},
   "source": [
    "## Unit Process"
   ]
  },
  {
   "cell_type": "markdown",
   "id": "0015750a-27ba-44cd-a405-9f5c1c49f295",
   "metadata": {},
   "source": [
    "Empowered with our new knowledge, let's try to create a simple unit process for the classic PET Bottle Production (see [here](https://www.openlca.org/wp-content/uploads/2020/03/GreenDelta-Bottle-Tutorial_1.10.pdf) for reference).\n",
    "\n",
    "There are three inputs for this process:\n",
    "\n",
    "- PET Granulate Production (Unit Process)\n",
    "    - Quantitative reference flow: Granulates (PET, HDPE, PP)\n",
    "    - Inputs:\n",
    "        - polyethylene terephthalate (PET) granulate: 60 g\n",
    "        - polyethylene high density granulate (PE-HD): 4 g\n",
    "        - polypropylene granulate (PP): 1 g\n",
    "- PET Transport A (Unit Process)\n",
    "    - Quantitative reference flow: Granulates (PET, HDPE, PP), transported\n",
    "    - Inputs:\n",
    "        - Granulates (PET, HDPE, PP): 0.065 kg\n",
    "        - Transport in t*km: 0.065 kg \\* 500 km\n",
    "- PET Bottle Filling\n",
    "    - Quantitative reference flow: PET Bottle, filled\n",
    "    - Inputs:\n",
    "        - Granulates (PET, HDPE, PP), transported: 1 item\n",
    "        - Drinking water: 1 kg"
   ]
  },
  {
   "cell_type": "code",
   "execution_count": null,
   "id": "b5141222-f950-43d3-878c-22b6f007466e",
   "metadata": {
    "scrolled": true
   },
   "outputs": [],
   "source": [
    "o.Process?"
   ]
  },
  {
   "cell_type": "markdown",
   "id": "830f3fe6-c04e-45b2-850f-c6381dd3e01f",
   "metadata": {},
   "source": [
    "Read the documentation for this class and see what attributes and methods we have."
   ]
  },
  {
   "cell_type": "markdown",
   "id": "e81f00de-0564-47bd-b270-e8a787d1cab0",
   "metadata": {},
   "source": [
    "Let's start with the first process for PET Granulate Production."
   ]
  },
  {
   "cell_type": "code",
   "execution_count": null,
   "id": "f91b6a50-04c0-41a6-a4da-7d868ff209c1",
   "metadata": {},
   "outputs": [],
   "source": [
    "gp_up = o.Process(name='PET Granulate Production')"
   ]
  },
  {
   "cell_type": "code",
   "execution_count": null,
   "id": "1490d9bc-7c5f-40bd-9e28-6c20456358a7",
   "metadata": {},
   "outputs": [],
   "source": [
    "gp_up.category = \"A Water Bottle\""
   ]
  },
  {
   "cell_type": "code",
   "execution_count": null,
   "id": "9745a146-58c3-4c41-8348-4160048e27ea",
   "metadata": {
    "scrolled": true
   },
   "outputs": [],
   "source": [
    "gp_up"
   ]
  },
  {
   "cell_type": "markdown",
   "id": "49ab6a61-7186-4235-a83d-70e1e84048ca",
   "metadata": {},
   "source": [
    "One of the missing attributes is 'process_type' and we know this is supposed to be a unit process. The expected data type for this attribute is 'ProcessType'."
   ]
  },
  {
   "cell_type": "code",
   "execution_count": null,
   "id": "748ebff7-fb27-42f3-8b4c-1a5222058cd9",
   "metadata": {},
   "outputs": [],
   "source": [
    "o.ProcessType"
   ]
  },
  {
   "cell_type": "markdown",
   "id": "d9030625-858a-4a8b-abf3-36c03c16c297",
   "metadata": {},
   "source": [
    "Enum is a data type for enumerations.\n",
    "\n",
    "> What are the possible values?"
   ]
  },
  {
   "cell_type": "code",
   "execution_count": null,
   "id": "f80e9d73-d762-4d61-8409-daebdfa240ed",
   "metadata": {},
   "outputs": [],
   "source": [
    "gp_up.process_type = o.ProcessType.UNIT_PROCESS"
   ]
  },
  {
   "cell_type": "code",
   "execution_count": null,
   "id": "24a892a2-d98d-434b-bf98-6545cdd40805",
   "metadata": {},
   "outputs": [],
   "source": [
    "gp_up"
   ]
  },
  {
   "cell_type": "markdown",
   "id": "45b2959f-53f2-498e-9e63-6ac365d7bfb4",
   "metadata": {},
   "source": [
    "Unit process have inputs and outputs.\n",
    "In the world of openLCA, these are defined as **exchanges**.\n",
    "Each exchange is a flow, is either an input or output, and has a quantity with units."
   ]
  },
  {
   "cell_type": "code",
   "execution_count": null,
   "id": "34556126-d818-4d31-ba49-60474f8db83f",
   "metadata": {},
   "outputs": [],
   "source": [
    "o.Exchange?"
   ]
  },
  {
   "cell_type": "markdown",
   "id": "dafc4099-2d48-4dc6-8503-7d409933d460",
   "metadata": {},
   "source": [
    "Let's look at the first exchange: 60 g of polyethylene terephthalate (PET) granulate.\n",
    "\n",
    "We see that an exchange needs a flow."
   ]
  },
  {
   "cell_type": "code",
   "execution_count": null,
   "id": "08d3341c-f42d-4ca2-b1a7-916e1cd48fed",
   "metadata": {},
   "outputs": [],
   "source": [
    "o.Flow?"
   ]
  },
  {
   "cell_type": "markdown",
   "id": "0ab9480b-bdc7-4246-bc3b-0568e03f369e",
   "metadata": {},
   "source": [
    "A flow has several optional attributes.\n",
    "The name, flow properties, and flow type stand out as important for this example.\n",
    "Let's create a new flow for this exchange."
   ]
  },
  {
   "cell_type": "code",
   "execution_count": null,
   "id": "1d693953-941c-4579-aa8e-732f9f214112",
   "metadata": {},
   "outputs": [],
   "source": [
    "pet_gran_flow = o.Flow(name=\"polyethylene terephthalate (PET) granulate\")"
   ]
  },
  {
   "cell_type": "code",
   "execution_count": null,
   "id": "1e29206e-476c-4890-b07d-7bedffdd5718",
   "metadata": {},
   "outputs": [],
   "source": [
    "pet_gran_flow"
   ]
  },
  {
   "cell_type": "markdown",
   "id": "5da779dc-aab0-48bb-bae5-08fd4d4a0dd2",
   "metadata": {},
   "source": [
    "Let's look at Flow Type first.\n",
    "We see that it is another enumeration data type.\n",
    "These granules are a product flow.\n",
    "Let's pick the right one."
   ]
  },
  {
   "cell_type": "code",
   "execution_count": null,
   "id": "93bfb952-dee7-42ba-b1e6-3bef26954058",
   "metadata": {
    "scrolled": true
   },
   "outputs": [],
   "source": [
    "dir(o.FlowType)"
   ]
  },
  {
   "cell_type": "code",
   "execution_count": null,
   "id": "8cf3fb62-289b-44d2-b3a8-997b52b0a0d7",
   "metadata": {},
   "outputs": [],
   "source": [
    "pet_gran_flow.flow_type = o.FlowType.PRODUCT_FLOW"
   ]
  },
  {
   "cell_type": "code",
   "execution_count": null,
   "id": "9f9b2102-09c5-4771-b5da-c1960d4a6c56",
   "metadata": {},
   "outputs": [],
   "source": [
    "pet_gran_flow"
   ]
  },
  {
   "cell_type": "markdown",
   "id": "9a2f8101-1ff7-44c3-9683-1b2c905f17b1",
   "metadata": {},
   "source": [
    "We know that product flows are technosphere flows; we can update the category attribute for materials production: plastics."
   ]
  },
  {
   "cell_type": "code",
   "execution_count": null,
   "id": "a61d8906-bd0d-480b-9689-3a37c40630ce",
   "metadata": {},
   "outputs": [],
   "source": [
    "pet_gran_flow.category = \"Materials production/Plastics\""
   ]
  },
  {
   "cell_type": "code",
   "execution_count": null,
   "id": "26f81b64-7123-4315-8b53-65a18b01f217",
   "metadata": {},
   "outputs": [],
   "source": [
    "pet_gran_flow"
   ]
  },
  {
   "cell_type": "markdown",
   "id": "96784ff4-b86f-40e7-8ae7-e617eb6b1bfb",
   "metadata": {},
   "source": [
    "Next are the flow properties, which is a list of FlowPropertyFactor objects.\n",
    "The [FlowPropertyFactor](https://greendelta.github.io/olca-schema/classes/FlowPropertyFactor.html) is a means for converting between flow properties (e.g., unit conversion from mass to volume or from mass to energy)."
   ]
  },
  {
   "cell_type": "code",
   "execution_count": null,
   "id": "a27bec2d-50e7-4239-a1f1-48fed65d43e5",
   "metadata": {},
   "outputs": [],
   "source": [
    "o.FlowPropertyFactor?"
   ]
  },
  {
   "cell_type": "markdown",
   "id": "46d37233-49a5-4dfe-94cd-49d16aea6078",
   "metadata": {},
   "source": [
    "The flow property factor has a flow property that it references.\n",
    "A [flow property](https://greendelta.github.io/olca-schema/classes/FlowProperty.html) is a quantity used to express the amounts of a flow."
   ]
  },
  {
   "cell_type": "code",
   "execution_count": null,
   "id": "5f428cd4-bce9-4cae-8199-3e570b37cfa6",
   "metadata": {},
   "outputs": [],
   "source": [
    "o.FlowProperty?"
   ]
  },
  {
   "cell_type": "markdown",
   "id": "ae053423-47fe-469b-aa0d-ac2b9511b4ea",
   "metadata": {},
   "source": [
    "Again, we see several optional attributes to describe a flow property, namely: a category, type, name, and unit group."
   ]
  },
  {
   "cell_type": "markdown",
   "id": "a22ea5d6-cd70-44ab-90e7-6fd4fa0206eb",
   "metadata": {},
   "source": [
    "A common flow property is the physical property, _Mass_.\n",
    "\n",
    "A flow property includes a reference to a unit group.\n",
    "A unit group is a collection of related units defined by a base unit (e.g., the kilogram) and additional units that can be derived from the base unit (e.g., milligram).\n",
    "The derivation is a simple conversion factor (e.g., 0.000001 kg = 1 milligram).\n",
    "\n",
    "When you create a new database in openLCA, there is an option to include the default flow properties and unit groups, which is really helpful.\n",
    "Unfortunately, there isn't an easy way to access these outside the software.\n",
    "\n",
    "The Federal LCA Commons' Elementary Flow List has these defaults defined.\n",
    "The code below reads the data from this list and generates lists of the olca-schema objects."
   ]
  },
  {
   "cell_type": "code",
   "execution_count": null,
   "id": "9cf858fd-88a6-4691-a151-7389b92daa2b",
   "metadata": {},
   "outputs": [],
   "source": [
    "# CODE EXCERPT FROM ELECTRICITYLCI\n",
    "\n",
    "import json\n",
    "import io\n",
    "import logging\n",
    "import os\n",
    "from zipfile import ZipFile\n",
    "\n",
    "import requests\n",
    "\n",
    "\n",
    "def _archive_json(data_list, file_path):\n",
    "    \"\"\"Write a list of dictionaries to a JSON file.\n",
    "\n",
    "    Parameters\n",
    "    ----------\n",
    "    data_list : list\n",
    "        A list of dictionaries.\n",
    "    file_path : str\n",
    "        A valid filepath to be written to (CAUTION: overwrites existing data)\n",
    "    \"\"\"\n",
    "    logging.debug(\"Writing %d items to %s\" % (len(data_list), file_path))\n",
    "    out_str = \",\".join([json.dumps(x.to_dict()) for x in data_list])\n",
    "    out_str = \"[%s]\" % out_str\n",
    "    with open(file_path, 'w') as f:\n",
    "        f.write(out_str)\n",
    "\n",
    "\n",
    "def _read_fedefl(data_dir=\".\"):\n",
    "    \"\"\"Return list of GreenDelta's unit group and flow property objects.\n",
    "\n",
    "    A local copy of the LCA Commons' Federal Elementary Flow List unit groups\n",
    "    is either accessed (in eLCI's data directory) or created (using requests).\n",
    "\n",
    "    Notes\n",
    "    -----\n",
    "    This method writes up to two files in electricitylci's data directory:\n",
    "\n",
    "    -   flow_properties.json\n",
    "    -   unit_groups.json\n",
    "\n",
    "    Returns\n",
    "    -------\n",
    "    tuple\n",
    "        A tuple of length two.\n",
    "        First item is a list of 27 olca-schema UnitGroup objects.\n",
    "        Second item is a list of 33 olca-schema FlowProperty objects.\n",
    "    \"\"\"\n",
    "    url = (\n",
    "        \"https://www.lcacommons.gov/\"\n",
    "        \"lca-collaboration/ws/public/download/json/\"\n",
    "        \"repository_Federal_LCA_Commons@elementary_flow_list\"\n",
    "    )\n",
    "    u_file = \"unit_groups.json\"\n",
    "    u_path = os.path.join(data_dir, u_file)\n",
    "    u_list = []\n",
    "\n",
    "    # HOTFIX: add flow properties\n",
    "    p_file = \"flow_properties.json\"\n",
    "    p_path = os.path.join(data_dir, p_file)\n",
    "    p_list = []\n",
    "\n",
    "    if not os.path.exists(u_path) or not os.path.exists(p_path):\n",
    "        # Pull from Federal Elementary Flow List\n",
    "        logging.info(\"Reading data from Federal LCA Commons\")\n",
    "        r = requests.get(url, stream=True)\n",
    "        with ZipFile(io.BytesIO(r.content)) as zippy:\n",
    "            # Find the unit groups, convert them to UnitGroup class\n",
    "            for name in zippy.namelist():\n",
    "                # Note there are only three folders in the zip file:\n",
    "                # 'flow_properties', 'flows', and 'unit_groups';\n",
    "                # we want the 27 JSON files under unit_groups\n",
    "                # and the 33 JSON files under flow_properties.\n",
    "                if name.startswith(\"unit\") and name.endswith(\"json\"):\n",
    "                    u_dict = json.loads(zippy.read(name))\n",
    "                    u_obj = o.UnitGroup.from_dict(u_dict)\n",
    "                    u_list.append(u_obj)\n",
    "                elif name.startswith(\"flow_\") and name.endswith(\"json\"):\n",
    "                    p_dict = json.loads(zippy.read(name))\n",
    "                    p_obj = o.FlowProperty.from_dict(p_dict)\n",
    "                    p_list.append(p_obj)\n",
    "\n",
    "        # Archive to avoid running requests again.\n",
    "        _archive_json(u_list, u_path)\n",
    "        logging.info(\"Saved unit groups from LCA Commons to JSON\")\n",
    "\n",
    "        _archive_json(p_list, p_path)\n",
    "        logging.info(\"Saved flow properties from LCA Commons to JSON\")\n",
    "\n",
    "    # Only read locally if needed (i.e., if data wasn't just downloaded)\n",
    "    if os.path.exists(u_path) and len(u_list) == 0:\n",
    "        logging.info(\"Reading unit groups from local JSON\")\n",
    "        with open(u_path, 'r') as f:\n",
    "            my_list = json.load(f)\n",
    "        for my_item in my_list:\n",
    "            u_list.append(o.UnitGroup.from_dict(my_item))\n",
    "\n",
    "    if os.path.exists(p_path) and len(p_list) == 0:\n",
    "        logging.info(\"Reading flow properties from local JSON\")\n",
    "        with open(p_path, 'r') as f:\n",
    "            my_list = json.load(f)\n",
    "        for my_item in my_list:\n",
    "            p_list.append(o.FlowProperty.from_dict(my_item))\n",
    "\n",
    "    return (u_list, p_list)"
   ]
  },
  {
   "cell_type": "code",
   "execution_count": null,
   "id": "83b0f0e5-ad2b-47cd-8c36-9968f445db5a",
   "metadata": {},
   "outputs": [],
   "source": [
    "u_groups, f_props = _read_fedefl()"
   ]
  },
  {
   "cell_type": "markdown",
   "id": "afdfc62c-fcb8-467e-a998-430d8b83d8f4",
   "metadata": {},
   "source": [
    "With these, we can take advantage of olca-schema's units module to find the correct flow property for our unit, kilograms."
   ]
  },
  {
   "cell_type": "code",
   "execution_count": null,
   "id": "88e1b06f-566e-4503-8f36-983de947472c",
   "metadata": {},
   "outputs": [],
   "source": [
    "import olca_schema.units as o_units"
   ]
  },
  {
   "cell_type": "code",
   "execution_count": null,
   "id": "a1c68365-fa9b-462c-944c-8b02d86bf0c2",
   "metadata": {},
   "outputs": [],
   "source": [
    "o_units.property_ref('kg')"
   ]
  },
  {
   "cell_type": "markdown",
   "id": "1f75e1cb-7765-4656-b8aa-3b9cb0cef80e",
   "metadata": {},
   "source": [
    "Now we can find the FlowProperty class object by its **UUID**."
   ]
  },
  {
   "cell_type": "code",
   "execution_count": null,
   "id": "8d7b9b01-e4cf-4b60-8a52-72e63ff9f07b",
   "metadata": {},
   "outputs": [],
   "source": [
    "[x.id for x in f_props].index(o_units.property_ref('kg').id)"
   ]
  },
  {
   "cell_type": "code",
   "execution_count": null,
   "id": "0ce8ae78-23f1-49fb-9785-48edb9eebe7a",
   "metadata": {},
   "outputs": [],
   "source": [
    "f_props[15]"
   ]
  },
  {
   "cell_type": "markdown",
   "id": "69e16b1f-643f-4ba2-aacc-973df4da42eb",
   "metadata": {},
   "source": [
    "We are finally ready to create our FlowPropertyFactor for our product flow!"
   ]
  },
  {
   "cell_type": "code",
   "execution_count": null,
   "id": "4b6a9437-bbbf-4ea3-917d-17ac4a4b5ce5",
   "metadata": {},
   "outputs": [],
   "source": [
    "pet_gran_flow.flow_properties = [\n",
    "    o.FlowPropertyFactor(\n",
    "        conversion_factor=1,\n",
    "        flow_property=f_props[15],\n",
    "        is_ref_flow_property=True,\n",
    "    )\n",
    "]"
   ]
  },
  {
   "cell_type": "markdown",
   "id": "f680c28b-c5d8-450e-af7c-cf3bf4589247",
   "metadata": {},
   "source": [
    "Now with our flow, we can create our exchange."
   ]
  },
  {
   "cell_type": "code",
   "execution_count": null,
   "id": "4faf7e0e-1b1b-49ba-9fba-95c7b7f6e946",
   "metadata": {
    "scrolled": true
   },
   "outputs": [],
   "source": [
    "o.Exchange?"
   ]
  },
  {
   "cell_type": "markdown",
   "id": "8f0a4d11-2aed-4b92-92b6-f19846829cf7",
   "metadata": {},
   "source": [
    "Note that we can access the flow property using the class dot operator and list indexing."
   ]
  },
  {
   "cell_type": "code",
   "execution_count": null,
   "id": "ad900635-a494-423d-b17a-0c59dd344f4e",
   "metadata": {},
   "outputs": [],
   "source": [
    "pet_gran_flow.flow_properties[0].flow_property"
   ]
  },
  {
   "cell_type": "code",
   "execution_count": null,
   "id": "690d645d-8daa-448b-93af-22279df8c1c0",
   "metadata": {},
   "outputs": [],
   "source": [
    "pet_gran_ex = o.Exchange(\n",
    "    amount=0.06,\n",
    "    flow=pet_gran_flow,\n",
    "    flow_property=pet_gran_flow.flow_properties[0].flow_property.to_ref(),\n",
    "    internal_id=2,\n",
    "    is_avoided_product=False,\n",
    "    is_input=True,\n",
    "    is_quantitative_reference=False,\n",
    "    unit=o_units.unit_ref('kg'),\n",
    ")"
   ]
  },
  {
   "cell_type": "code",
   "execution_count": null,
   "id": "014e3a28-e67b-4527-8abd-68958937fad9",
   "metadata": {},
   "outputs": [],
   "source": [
    "pet_gran_ex"
   ]
  },
  {
   "cell_type": "markdown",
   "id": "46cf422a-288e-4a98-a4d1-6feb8020cf5e",
   "metadata": {},
   "source": [
    "In one fell swoop, we can define the other input exchanges."
   ]
  },
  {
   "cell_type": "code",
   "execution_count": null,
   "id": "998e9eae-b39b-4fdc-afe2-1c583d06388d",
   "metadata": {},
   "outputs": [],
   "source": [
    "pe_hd_flow = o.Flow(\n",
    "    name=\"polyethylene high density granulate (PE-HD)\",\n",
    "    flow_type = o.FlowType.PRODUCT_FLOW,\n",
    "    category = \"Materials production/Plastics\",\n",
    "    flow_properties = [\n",
    "        o.FlowPropertyFactor(\n",
    "            conversion_factor=1,\n",
    "            flow_property=f_props[15],\n",
    "            is_ref_flow_property=True,\n",
    "        )\n",
    "    ]\n",
    ")\n",
    "\n",
    "pe_hd_ex = o.Exchange(\n",
    "    amount=0.004,\n",
    "    flow=pe_hd_flow,\n",
    "    flow_property=pe_hd_flow.flow_properties[0].flow_property.to_ref(),\n",
    "    internal_id=3,\n",
    "    is_avoided_product=False,\n",
    "    is_input=True,\n",
    "    is_quantitative_reference=False,\n",
    "    unit=o_units.unit_ref('kg'),\n",
    ")"
   ]
  },
  {
   "cell_type": "code",
   "execution_count": null,
   "id": "5339d093-730e-4e73-b8fb-8580161f24b8",
   "metadata": {},
   "outputs": [],
   "source": [
    "pp_flow = o.Flow(\n",
    "    name=\"polypropylene granulate (PP)\",\n",
    "    flow_type = o.FlowType.PRODUCT_FLOW,\n",
    "    category = \"Materials production/Plastics\",\n",
    "    flow_properties = [\n",
    "        o.FlowPropertyFactor(\n",
    "            conversion_factor=1,\n",
    "            flow_property=f_props[15],\n",
    "            is_ref_flow_property=True,\n",
    "        )\n",
    "    ]\n",
    ")\n",
    "\n",
    "pp_ex = o.Exchange(\n",
    "    amount=0.001,\n",
    "    flow=pp_flow,\n",
    "    flow_property=pp_flow.flow_properties[0].flow_property.to_ref(),\n",
    "    internal_id=4,\n",
    "    is_avoided_product=False,\n",
    "    is_input=True,\n",
    "    is_quantitative_reference=False,\n",
    "    unit=o_units.unit_ref('kg'),\n",
    ")"
   ]
  },
  {
   "cell_type": "code",
   "execution_count": null,
   "id": "8031a6c1-2ad6-4588-8df2-1ca36ef43f94",
   "metadata": {},
   "outputs": [],
   "source": [
    "pp_ex.to_dict()"
   ]
  },
  {
   "cell_type": "markdown",
   "id": "072e94c2-e0c2-418e-b3fd-15af0b4b4d25",
   "metadata": {},
   "source": [
    "And lastly, the output exchange.\n",
    "Note that I saved the internal_id 1 for this flow."
   ]
  },
  {
   "cell_type": "code",
   "execution_count": null,
   "id": "62a612e1-7a39-4384-a729-4b27179cb998",
   "metadata": {},
   "outputs": [],
   "source": [
    "gran_flow = o.Flow(\n",
    "    name=\"Granulates (PET, HDPE, PP)\",\n",
    "    flow_type = o.FlowType.PRODUCT_FLOW,\n",
    "    category = \"A Water Bottle\",\n",
    "    flow_properties = [\n",
    "        o.FlowPropertyFactor(\n",
    "            conversion_factor=1,\n",
    "            flow_property=f_props[15],\n",
    "            is_ref_flow_property=True,\n",
    "        )\n",
    "    ]\n",
    ")\n",
    "\n",
    "gran_ex = o.Exchange(\n",
    "    amount=0.065,\n",
    "    flow=gran_flow,\n",
    "    flow_property=gran_flow.flow_properties[0].flow_property.to_ref(),\n",
    "    internal_id=1,\n",
    "    is_avoided_product=False,\n",
    "    is_input=False,\n",
    "    is_quantitative_reference=True,\n",
    "    unit=o_units.unit_ref('kg'),\n",
    ")"
   ]
  },
  {
   "cell_type": "markdown",
   "id": "3614e076-041e-4173-868b-470412218aea",
   "metadata": {},
   "source": [
    "Now, add these exchanges to our process."
   ]
  },
  {
   "cell_type": "code",
   "execution_count": null,
   "id": "18365bf5-cae7-462d-acfa-f969abb65e1a",
   "metadata": {},
   "outputs": [],
   "source": [
    "gp_up.exchanges = [\n",
    "    gran_ex,\n",
    "    pet_gran_ex,\n",
    "    pe_hd_ex,\n",
    "    pp_ex\n",
    "]"
   ]
  },
  {
   "cell_type": "code",
   "execution_count": null,
   "id": "6b03237a-83fb-4ce9-95e9-e6fb4a430e07",
   "metadata": {
    "scrolled": true
   },
   "outputs": [],
   "source": [
    "gp_up"
   ]
  },
  {
   "cell_type": "code",
   "execution_count": null,
   "id": "c030e5e0-dd6d-4213-a226-08f2e33ed42d",
   "metadata": {},
   "outputs": [],
   "source": [
    "# Find the flow property for Item(s)\n",
    "[x.id for x in f_props].index(o_units.property_ref('Item(s)').id)"
   ]
  },
  {
   "cell_type": "code",
   "execution_count": null,
   "id": "39b69647-f752-454b-b1a7-e0c4822ef36f",
   "metadata": {},
   "outputs": [],
   "source": [
    "# Find the flow property for kg*km\n",
    "[x.id for x in f_props].index(o_units.property_ref(\"kg*km\").id)"
   ]
  },
  {
   "cell_type": "markdown",
   "id": "386bf1b8-8b69-4683-a195-1df653b9fac2",
   "metadata": {},
   "source": [
    "Note that Transport has an exchange with a provider!"
   ]
  },
  {
   "cell_type": "code",
   "execution_count": null,
   "id": "69c287a6-c2df-42bb-a0a9-a86f200de71b",
   "metadata": {},
   "outputs": [],
   "source": [
    "gran_t_flow = o.Flow(\n",
    "    name=\"Granulates (PET, HDPE, PP), transported\",\n",
    "    flow_type = o.FlowType.PRODUCT_FLOW,\n",
    "    category = \"A Water Bottle\",\n",
    "    flow_properties = [\n",
    "        o.FlowPropertyFactor(\n",
    "            conversion_factor=1,\n",
    "            flow_property=f_props[1],\n",
    "            is_ref_flow_property=True,\n",
    "        )\n",
    "    ]\n",
    ")\n",
    "t_flow = o.Flow(\n",
    "    name=\"Transport in t*km\",\n",
    "    flow_type = o.FlowType.PRODUCT_FLOW,\n",
    "    category = \"Transport services/Other transport\",\n",
    "    flow_properties = [\n",
    "        o.FlowPropertyFactor(\n",
    "            conversion_factor=1,\n",
    "            flow_property=f_props[11],\n",
    "            is_ref_flow_property=True,\n",
    "        )\n",
    "    ]\n",
    ")\n",
    "\n",
    "trans_up = o.Process(\n",
    "    name=\"PET Transport A\",\n",
    "    category=\"A Water Bottle\",\n",
    "    process_type=o.ProcessType.UNIT_PROCESS,\n",
    "    is_infrastructure_process=False,\n",
    "    exchanges=[\n",
    "        o.Exchange(\n",
    "            amount=1,\n",
    "            flow=gran_t_flow,\n",
    "            flow_property=gran_t_flow.flow_properties[0].flow_property.to_ref(),\n",
    "            internal_id=1,\n",
    "            is_avoided_product=False,\n",
    "            is_input=False,\n",
    "            is_quantitative_reference=True,\n",
    "            unit=o_units.unit_ref('Item(s)'),\n",
    "        ),\n",
    "        o.Exchange(\n",
    "            amount=0.065,\n",
    "            flow=gran_flow,\n",
    "            flow_property=gran_flow.flow_properties[0].flow_property.to_ref(),\n",
    "            internal_id=2,\n",
    "            is_avoided_product=False,\n",
    "            is_input=True,\n",
    "            is_quantitative_reference=False,\n",
    "            default_provider=gp_up.to_ref(),  # NEW!\n",
    "            unit=o_units.unit_ref('kg'),\n",
    "        ),\n",
    "        o.Exchange(\n",
    "            amount_formula=\"0.065*500\",\n",
    "            flow=t_flow,\n",
    "            flow_property=t_flow.flow_properties[0].flow_property.to_ref(),\n",
    "            internal_id=3,\n",
    "            is_avoided_product=False,\n",
    "            is_input=True,\n",
    "            is_quantitative_reference=False,\n",
    "            unit=o_units.unit_ref('kg*km'),\n",
    "        ),\n",
    "    ],\n",
    ")"
   ]
  },
  {
   "cell_type": "markdown",
   "id": "6c31dd1c-ecd8-4e98-834f-68167e42159e",
   "metadata": {},
   "source": [
    "Note that PET Bottle, filled has an exhange with a provider!"
   ]
  },
  {
   "cell_type": "code",
   "execution_count": null,
   "id": "c09d5ebc-f2df-49b9-97f3-e1fd048fdfcd",
   "metadata": {},
   "outputs": [],
   "source": [
    "pet_fill_flow = o.Flow(\n",
    "    name=\"PET Bottle, filled\",\n",
    "    flow_type = o.FlowType.PRODUCT_FLOW,\n",
    "    category = \"A Water Bottle\",\n",
    "    flow_properties = [\n",
    "        o.FlowPropertyFactor(\n",
    "            conversion_factor=1,\n",
    "            flow_property=f_props[15],\n",
    "            is_ref_flow_property=True,\n",
    "        )\n",
    "    ]\n",
    ")\n",
    "dw_flow = o.Flow(\n",
    "    name=\"drinking water\",\n",
    "    flow_type = o.FlowType.PRODUCT_FLOW,\n",
    "    category = \"Materials production/Water\",\n",
    "    flow_properties = [\n",
    "        o.FlowPropertyFactor(\n",
    "            conversion_factor=1,\n",
    "            flow_property=f_props[15],\n",
    "            is_ref_flow_property=True,\n",
    "        )\n",
    "    ]\n",
    ")\n",
    "\n",
    "bf_up = o.Process(\n",
    "    name=\"PET Bottle Filling\",\n",
    "    category=\"A Water Bottle\",\n",
    "    process_type=o.ProcessType.UNIT_PROCESS,\n",
    "    is_infrastructure_process=False,\n",
    "    exchanges=[\n",
    "        o.Exchange(\n",
    "            amount=1.065,\n",
    "            flow=pet_fill_flow,\n",
    "            flow_property=pet_fill_flow.flow_properties[0].flow_property.to_ref(),\n",
    "            internal_id=1,\n",
    "            is_avoided_product=False,\n",
    "            is_input=False,\n",
    "            is_quantitative_reference=True,\n",
    "            unit=o_units.unit_ref('kg'),\n",
    "        ),\n",
    "        o.Exchange(\n",
    "            amount=1,\n",
    "            flow=gran_t_flow,\n",
    "            flow_property=gran_t_flow.flow_properties[0].flow_property.to_ref(),\n",
    "            internal_id=2,\n",
    "            is_avoided_product=False,\n",
    "            is_input=True,\n",
    "            is_quantitative_reference=False,\n",
    "            default_provider=trans_up.to_ref(),\n",
    "            unit=o_units.unit_ref('Item(s)'),\n",
    "        ),\n",
    "        o.Exchange(\n",
    "            amount=1.0,\n",
    "            flow=dw_flow,\n",
    "            flow_property=dw_flow.flow_properties[0].flow_property.to_ref(),\n",
    "            internal_id=3,\n",
    "            is_avoided_product=False,\n",
    "            is_input=True,\n",
    "            is_quantitative_reference=False,\n",
    "            unit=o_units.unit_ref('kg'),\n",
    "        ),\n",
    "    ],\n",
    ")"
   ]
  },
  {
   "cell_type": "markdown",
   "id": "66b9a602-0a7a-4cd7-a49a-123c814b1997",
   "metadata": {},
   "source": [
    "Now we have a set of unit process, flows, flow properties, and unit groups.\n",
    "Let's gather together our flows!w"
   ]
  },
  {
   "cell_type": "code",
   "execution_count": null,
   "id": "c5811dea-9c6a-4989-aeb6-f67deae264a4",
   "metadata": {},
   "outputs": [],
   "source": [
    "%whos"
   ]
  },
  {
   "cell_type": "code",
   "execution_count": null,
   "id": "d1784839-aa21-46d6-ac87-40d58f922967",
   "metadata": {},
   "outputs": [],
   "source": [
    "flow_list = [\n",
    "\n",
    "]"
   ]
  },
  {
   "cell_type": "markdown",
   "id": "cd1899ea-7ede-45b1-958c-e06cca56c483",
   "metadata": {},
   "source": [
    "Let's make process documentation for our processes!"
   ]
  },
  {
   "cell_type": "code",
   "execution_count": null,
   "id": "83d8769a-0cab-4042-a42c-ee99406fb0ce",
   "metadata": {},
   "outputs": [],
   "source": [
    "o.ProcessDocumentation?"
   ]
  },
  {
   "cell_type": "code",
   "execution_count": null,
   "id": "710ef67d-a32e-48df-86a5-1a80ab216b4b",
   "metadata": {},
   "outputs": [],
   "source": [
    "from datetime import datetime\n",
    "\n",
    "cur_time = datetime.isoformat(datetime.now())"
   ]
  },
  {
   "cell_type": "code",
   "execution_count": null,
   "id": "50a0ac3f-1cdd-48fe-9e9b-628614090b07",
   "metadata": {},
   "outputs": [],
   "source": [
    "from datetime import timedelta"
   ]
  },
  {
   "cell_type": "code",
   "execution_count": null,
   "id": "4fded7d2-99f8-49b5-9d13-7c3f3a2f3b1c",
   "metadata": {},
   "outputs": [],
   "source": [
    "next_time = datetime.isoformat(datetime.now() + timedelta(days=365))"
   ]
  },
  {
   "cell_type": "code",
   "execution_count": null,
   "id": "d3eddb99-429f-494b-b9b3-78f9c550aebc",
   "metadata": {},
   "outputs": [],
   "source": [
    "next_time"
   ]
  },
  {
   "cell_type": "code",
   "execution_count": null,
   "id": "f33384b3-a482-494a-8eb1-98fa6c48aa0d",
   "metadata": {},
   "outputs": [],
   "source": [
    "pdoc = o.ProcessDocumentation(\n",
    "    data_collection_description=\"Based on the openlca.org GreenDelta Bottle Tutorial\",\n",
    "    data_documentor=a.to_ref(),\n",
    "    data_generator=a.to_ref(),\n",
    "    geography_description=\"United States\",\n",
    "    intended_application=\"For educational purposes only.\",\n",
    "    is_copyright_protected=False,\n",
    "    project_description=\"The LCA for producing a plastic water bottle\",\n",
    "    reviewer=a.to_ref(),\n",
    "    creation_date=cur_time,\n",
    "    valid_from=cur_time,\n",
    "    valid_until=next_time,\n",
    ")"
   ]
  },
  {
   "cell_type": "code",
   "execution_count": null,
   "id": "6ba95a67-78b4-4226-a2fa-40745b336b1d",
   "metadata": {},
   "outputs": [],
   "source": [
    "pdoc.to_dict()"
   ]
  },
  {
   "cell_type": "markdown",
   "id": "c795403c-3df4-4a4c-b04a-61367f5f5335",
   "metadata": {},
   "source": [
    "Let's put together our processes and add the documentation."
   ]
  },
  {
   "cell_type": "code",
   "execution_count": null,
   "id": "01afaa48-3589-4528-93ea-5737f292fd24",
   "metadata": {},
   "outputs": [],
   "source": [
    "bf_up.process_documentation = pdoc\n",
    "gp_up.process_documentation = pdoc\n",
    "trans_up.process_documentation = pdoc\n",
    "\n",
    "p_list = [bf_up, gp_up, trans_up]"
   ]
  },
  {
   "cell_type": "markdown",
   "id": "81065ff3-a791-498e-bf22-a58ad3617a2d",
   "metadata": {},
   "source": [
    "Now, let's export it to a JSON-LD!"
   ]
  },
  {
   "cell_type": "code",
   "execution_count": null,
   "id": "5417343f-7cb1-48e9-8895-85db896e8ca6",
   "metadata": {},
   "outputs": [],
   "source": [
    "import olca_schema.zipio as zipio"
   ]
  },
  {
   "cell_type": "code",
   "execution_count": null,
   "id": "85aa2f84-44c4-456d-88f0-120fb41f85fc",
   "metadata": {},
   "outputs": [],
   "source": [
    "my_jsonld = \"a_water_bottle.zip\"\n",
    "with zipio.ZipWriter(my_jsonld) as writer:\n",
    "    for x in u_groups:\n",
    "        writer.write(x)\n",
    "    for x in f_props:\n",
    "        writer.write(x)\n",
    "    for x in flow_list:\n",
    "        writer.write(x)\n",
    "    for x in p_list:\n",
    "        writer.write(x)\n",
    "    writer.write(a)"
   ]
  },
  {
   "cell_type": "markdown",
   "id": "0af348f7-3b61-41a4-878c-788dd8b8e45f",
   "metadata": {},
   "source": [
    "Try opening our JSON-LD in openLCA!\n",
    "\n",
    "- create a new empty database\n",
    "- import \"a_water_bottle.zip\"\n",
    "- overwrite all existing data"
   ]
  }
 ],
 "metadata": {
  "kernelspec": {
   "display_name": "Python 3 (ipykernel)",
   "language": "python",
   "name": "python3"
  },
  "language_info": {
   "codemirror_mode": {
    "name": "ipython",
    "version": 3
   },
   "file_extension": ".py",
   "mimetype": "text/x-python",
   "name": "python",
   "nbconvert_exporter": "python",
   "pygments_lexer": "ipython3",
   "version": "3.11.7"
  }
 },
 "nbformat": 4,
 "nbformat_minor": 5
}
